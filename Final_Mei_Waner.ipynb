{
  "nbformat": 4,
  "nbformat_minor": 0,
  "metadata": {
    "colab": {
      "name": "Final_Mei_Waner.ipynb",
      "provenance": [],
      "collapsed_sections": []
    },
    "kernelspec": {
      "name": "python3",
      "display_name": "Python 3"
    },
    "language_info": {
      "name": "python"
    }
  },
  "cells": [
    {
      "cell_type": "markdown",
      "metadata": {
        "id": "HLZ91mmvMQyl"
      },
      "source": [
        "## **Machine Learning Final Project DUE: Friday May 7th 11:59pm**\n",
        "\n",
        "**Note: Please read all the instructions carefully before starting the project.**\n",
        "\n",
        "For your final project you will build an ML model to analyze a dataset of your choice. You are welcome to keep working on the data in your EDA project if your data is large enough (at least 1000 rows for simple models and at least 10,000 for more complex models) or you can choose from the datasets/project suggestions below.\n",
        "\n",
        "In this project make sure that you:\n",
        "- Have a large enough dataset\n",
        "- Split your data in training and testing\n",
        "- Explore your data to inform which type of model to choose (no need if you are using your EDA dataset)\n",
        "- Try different models on your training dataset - then select the most promising model\n",
        "- Use cross validation to fine tune the model’s parameters such as alpha in lasso\n",
        "- Simplify your model using regularization, prunnning, drop-out, etc. to avoid overfitting\n",
        "- Communicate your model’s performance and make sure you compare it to a benchmark when appropriate\n",
        "- Plot interesting graphs and results\n",
        "- Write and publish your article to medium\n",
        "- Commit your code to your GitHub\n",
        "\n",
        "Please ensure you handle all the preprocessing before the modeling.\n",
        "\n",
        "Suggestions for project:\n",
        "You can take a look at the resources given below for choosing a dataset for your project. \n",
        "\n",
        "- Traffic sign detection - https://benchmark.ini.rub.de/gtsdb_dataset.html\n",
        "- Cat and dog classifier - https://www.kaggle.com/c/dogs-vs-cats/data\n",
        "- Other datasets from Kaggle - https://www.kaggle.com/data/41592"
      ]
    },
    {
      "cell_type": "markdown",
      "metadata": {
        "id": "mirWm3dBPv90"
      },
      "source": [
        "## **Grading Criteria**\n",
        "\n",
        "- Show clear exploration of the data to justify model choice\n",
        "- Train mutliple models and clearly articulate why you chose your final model\n",
        "- Show your performance on test dataset\n",
        "- Clear and concise write-up with clear well-documented figures\n",
        "- Commit your code to GitHub"
      ]
    },
    {
      "cell_type": "markdown",
      "metadata": {
        "id": "4ZRNqxFcP4wx"
      },
      "source": [
        "## **Submission Details**\n",
        "\n",
        "This is an individual assignment. You may not work in groups. The assignment is due on Friday (05/07/2021)\n",
        "- To submit your assignment, download your notebook and the dataset, zip the dataset and notebook, and submit the zipped file on blackboard.\n",
        "- Make sure the notebook is named in the format - Final_LastName_FirstName. If you are submitting a zipped file, please name the file as well in the same format.\n",
        "- Please include the link to access your blog and your github repo in your notebook.\n",
        "- Also include the link to your notebook, github repo and the blog in the submission on blackboard. Please ensure the TAs have the required access to your notebooks and the github repo.\n",
        "\n",
        "**Note - If the dataset is too large to be zipped and submitted on blackboard, only submit your notebook, add your dataset to your google drive and share a link to the file in your notebook.**"
      ]
    },
    {
      "cell_type": "code",
      "metadata": {
        "id": "xYASnnQ2Bcm9"
      },
      "source": [
        "# Let's import the libraries.\n",
        "import pandas as pd\n",
        "import numpy as np\n",
        "import seaborn as sn\n",
        "import matplotlib as mpl\n",
        "import matplotlib.pyplot as plt\n",
        "import warnings\n",
        "warnings.filterwarnings('ignore')\n",
        "from sklearn.datasets import make_blobs\n",
        "from sklearn.model_selection import train_test_split\n",
        "from sklearn.linear_model import LogisticRegression\n",
        "import sklearn.metrics as metrics\n",
        "from sklearn.metrics import plot_confusion_matrix\n",
        "from sklearn.linear_model import LinearRegression\n",
        "from sklearn.ensemble import GradientBoostingRegressor\n",
        "from sklearn.ensemble import RandomForestRegressor\n"
      ],
      "execution_count": 1,
      "outputs": []
    },
    {
      "cell_type": "code",
      "metadata": {
        "id": "KSDhKp2IBRJx",
        "colab": {
          "base_uri": "https://localhost:8080/",
          "height": 202
        },
        "outputId": "5518105a-2a04-4086-cac1-a21b02c3e8f8"
      },
      "source": [
        "# Let's import the data.\n",
        "url = \"https://raw.githubusercontent.com/wanermelon/EDA-on-Suicide-Rates/main/master.csv\"\n",
        "Suicide_rate = pd.read_csv(url)\n",
        "Suicide_rate.head()"
      ],
      "execution_count": 2,
      "outputs": [
        {
          "output_type": "execute_result",
          "data": {
            "text/html": [
              "<div>\n",
              "<style scoped>\n",
              "    .dataframe tbody tr th:only-of-type {\n",
              "        vertical-align: middle;\n",
              "    }\n",
              "\n",
              "    .dataframe tbody tr th {\n",
              "        vertical-align: top;\n",
              "    }\n",
              "\n",
              "    .dataframe thead th {\n",
              "        text-align: right;\n",
              "    }\n",
              "</style>\n",
              "<table border=\"1\" class=\"dataframe\">\n",
              "  <thead>\n",
              "    <tr style=\"text-align: right;\">\n",
              "      <th></th>\n",
              "      <th>country</th>\n",
              "      <th>year</th>\n",
              "      <th>sex</th>\n",
              "      <th>age</th>\n",
              "      <th>suicides_no</th>\n",
              "      <th>population</th>\n",
              "      <th>suicides/100k pop</th>\n",
              "      <th>country-year</th>\n",
              "      <th>HDI for year</th>\n",
              "      <th>gdp_for_year ($)</th>\n",
              "      <th>gdp_per_capita ($)</th>\n",
              "      <th>generation</th>\n",
              "    </tr>\n",
              "  </thead>\n",
              "  <tbody>\n",
              "    <tr>\n",
              "      <th>0</th>\n",
              "      <td>Albania</td>\n",
              "      <td>1987</td>\n",
              "      <td>male</td>\n",
              "      <td>15-24 years</td>\n",
              "      <td>21</td>\n",
              "      <td>312900</td>\n",
              "      <td>6.71</td>\n",
              "      <td>Albania1987</td>\n",
              "      <td>NaN</td>\n",
              "      <td>2,156,624,900</td>\n",
              "      <td>796</td>\n",
              "      <td>Generation X</td>\n",
              "    </tr>\n",
              "    <tr>\n",
              "      <th>1</th>\n",
              "      <td>Albania</td>\n",
              "      <td>1987</td>\n",
              "      <td>male</td>\n",
              "      <td>35-54 years</td>\n",
              "      <td>16</td>\n",
              "      <td>308000</td>\n",
              "      <td>5.19</td>\n",
              "      <td>Albania1987</td>\n",
              "      <td>NaN</td>\n",
              "      <td>2,156,624,900</td>\n",
              "      <td>796</td>\n",
              "      <td>Silent</td>\n",
              "    </tr>\n",
              "    <tr>\n",
              "      <th>2</th>\n",
              "      <td>Albania</td>\n",
              "      <td>1987</td>\n",
              "      <td>female</td>\n",
              "      <td>15-24 years</td>\n",
              "      <td>14</td>\n",
              "      <td>289700</td>\n",
              "      <td>4.83</td>\n",
              "      <td>Albania1987</td>\n",
              "      <td>NaN</td>\n",
              "      <td>2,156,624,900</td>\n",
              "      <td>796</td>\n",
              "      <td>Generation X</td>\n",
              "    </tr>\n",
              "    <tr>\n",
              "      <th>3</th>\n",
              "      <td>Albania</td>\n",
              "      <td>1987</td>\n",
              "      <td>male</td>\n",
              "      <td>75+ years</td>\n",
              "      <td>1</td>\n",
              "      <td>21800</td>\n",
              "      <td>4.59</td>\n",
              "      <td>Albania1987</td>\n",
              "      <td>NaN</td>\n",
              "      <td>2,156,624,900</td>\n",
              "      <td>796</td>\n",
              "      <td>G.I. Generation</td>\n",
              "    </tr>\n",
              "    <tr>\n",
              "      <th>4</th>\n",
              "      <td>Albania</td>\n",
              "      <td>1987</td>\n",
              "      <td>male</td>\n",
              "      <td>25-34 years</td>\n",
              "      <td>9</td>\n",
              "      <td>274300</td>\n",
              "      <td>3.28</td>\n",
              "      <td>Albania1987</td>\n",
              "      <td>NaN</td>\n",
              "      <td>2,156,624,900</td>\n",
              "      <td>796</td>\n",
              "      <td>Boomers</td>\n",
              "    </tr>\n",
              "  </tbody>\n",
              "</table>\n",
              "</div>"
            ],
            "text/plain": [
              "   country  year  ... gdp_per_capita ($)       generation\n",
              "0  Albania  1987  ...                796     Generation X\n",
              "1  Albania  1987  ...                796           Silent\n",
              "2  Albania  1987  ...                796     Generation X\n",
              "3  Albania  1987  ...                796  G.I. Generation\n",
              "4  Albania  1987  ...                796          Boomers\n",
              "\n",
              "[5 rows x 12 columns]"
            ]
          },
          "metadata": {
            "tags": []
          },
          "execution_count": 2
        }
      ]
    },
    {
      "cell_type": "code",
      "metadata": {
        "id": "ZzWRBLl6MImY",
        "colab": {
          "base_uri": "https://localhost:8080/"
        },
        "outputId": "7c636cdd-e2e0-4ecd-8a8a-6b6ecb0c81ba"
      },
      "source": [
        "# Clean data\n",
        "Suicide_rate = Suicide_rate.rename(columns={' gdp_for_year ($) ': 'gdp_for_year'})\n",
        "Suicide_rate = Suicide_rate.rename(columns={'gdp_per_capita ($)': 'gdp_per_capita'})\n",
        "Suicide_rate = Suicide_rate.drop([\"country-year\", \"HDI for year\",\"gdp_for_year\"], axis=1)\n",
        "Suicide_rate = Suicide_rate.drop_duplicates(keep='first')\n",
        "Suicide_rate.dropna()\n",
        "Suicide_rate = Suicide_rate.rename(columns={'suicides/100k pop': 'Suicide_per_Hundred_K_Pop'})\n",
        "Suicide_rate.info()"
      ],
      "execution_count": 3,
      "outputs": [
        {
          "output_type": "stream",
          "text": [
            "<class 'pandas.core.frame.DataFrame'>\n",
            "Int64Index: 27820 entries, 0 to 27819\n",
            "Data columns (total 9 columns):\n",
            " #   Column                     Non-Null Count  Dtype  \n",
            "---  ------                     --------------  -----  \n",
            " 0   country                    27820 non-null  object \n",
            " 1   year                       27820 non-null  int64  \n",
            " 2   sex                        27820 non-null  object \n",
            " 3   age                        27820 non-null  object \n",
            " 4   suicides_no                27820 non-null  int64  \n",
            " 5   population                 27820 non-null  int64  \n",
            " 6   Suicide_per_Hundred_K_Pop  27820 non-null  float64\n",
            " 7   gdp_per_capita             27820 non-null  int64  \n",
            " 8   generation                 27820 non-null  object \n",
            "dtypes: float64(1), int64(4), object(4)\n",
            "memory usage: 2.1+ MB\n"
          ],
          "name": "stdout"
        }
      ]
    },
    {
      "cell_type": "code",
      "metadata": {
        "colab": {
          "base_uri": "https://localhost:8080/",
          "height": 573
        },
        "id": "lNlpLb7Jv0xQ",
        "outputId": "2b553e53-c79c-4ba0-b0e5-31c6360f334c"
      },
      "source": [
        "# Exploring and testing libraries imported.\n",
        "plt.figure(1)\n",
        "sn.barplot(x=Suicide_rate.sex, y=Suicide_rate.Suicide_per_Hundred_K_Pop)\n",
        "plt.title(\"Sex and Suicides\")\n",
        "plt.figure(2)\n",
        "sn.barplot(x=Suicide_rate.generation, y=Suicide_rate.Suicide_per_Hundred_K_Pop) \n",
        "plt.title(\"Generation and suicides\")\n",
        "plt.show()"
      ],
      "execution_count": 4,
      "outputs": [
        {
          "output_type": "display_data",
          "data": {
            "image/png": "[encoded data removed]",
            "text/plain": [
              "<Figure size 432x288 with 1 Axes>"
            ]
          },
          "metadata": {
            "tags": [],
            "needs_background": "light"
          }
        },
        {
          "output_type": "display_data",
          "data": {
            "image/png": "[encoded data removed]",
            "text/plain": [
              "<Figure size 432x288 with 1 Axes>"
            ]
          },
          "metadata": {
            "tags": [],
            "needs_background": "light"
          }
        }
      ]
    },
    {
      "cell_type": "code",
      "metadata": {
        "colab": {
          "base_uri": "https://localhost:8080/"
        },
        "id": "fAvNzRoPTRYY",
        "outputId": "a55b3015-f712-4015-ccd9-2c3803ddd9c9"
      },
      "source": [
        "# Let's split the data into training and testing.\n",
        "# After exploring the data, I'm more interested in the connection between Suicide rates and GPD.\n",
        "# Therefore, I chose Suicide_per_Hundred_K_Pop as X and gdp_per_capita as y.\n",
        "# I also made the categorical variables in the dataset dummy variable.\n",
        "df2 = pd.get_dummies(Suicide_rate, columns=['sex','generation'])\n",
        "\n",
        "X=df2.iloc[:,-9]\n",
        "print(X)"
      ],
      "execution_count": 5,
      "outputs": [
        {
          "output_type": "stream",
          "text": [
            "0         796\n",
            "1         796\n",
            "2         796\n",
            "3         796\n",
            "4         796\n",
            "         ... \n",
            "27815    2309\n",
            "27816    2309\n",
            "27817    2309\n",
            "27818    2309\n",
            "27819    2309\n",
            "Name: gdp_per_capita, Length: 27820, dtype: int64\n"
          ],
          "name": "stdout"
        }
      ]
    },
    {
      "cell_type": "code",
      "metadata": {
        "colab": {
          "base_uri": "https://localhost:8080/"
        },
        "id": "l7YvfxhHTllm",
        "outputId": "9af035c0-7891-46be-ce85-d33929d7d056"
      },
      "source": [
        "y=df2.iloc[:,5]\n",
        "print(y)"
      ],
      "execution_count": 6,
      "outputs": [
        {
          "output_type": "stream",
          "text": [
            "0        6.71\n",
            "1        5.19\n",
            "2        4.83\n",
            "3        4.59\n",
            "4        3.28\n",
            "         ... \n",
            "27815    2.96\n",
            "27816    2.58\n",
            "27817    2.17\n",
            "27818    1.67\n",
            "27819    1.46\n",
            "Name: Suicide_per_Hundred_K_Pop, Length: 27820, dtype: float64\n"
          ],
          "name": "stdout"
        }
      ]
    },
    {
      "cell_type": "code",
      "metadata": {
        "colab": {
          "base_uri": "https://localhost:8080/"
        },
        "id": "Z3TYG1ChBs96",
        "outputId": "e918cb6e-a462-45c0-987a-19922a13e003"
      },
      "source": [
        "X_train, X_test, y_train, y_test = train_test_split(X, y, test_size=0.33, random_state=2020)\n",
        "print(X_train.shape, X_test.shape, y_train.shape, y_test.shape)"
      ],
      "execution_count": 7,
      "outputs": [
        {
          "output_type": "stream",
          "text": [
            "(18639,) (9181,) (18639,) (9181,)\n"
          ],
          "name": "stdout"
        }
      ]
    },
    {
      "cell_type": "code",
      "metadata": {
        "colab": {
          "base_uri": "https://localhost:8080/",
          "height": 376
        },
        "id": "uGUmPiOrmdug",
        "outputId": "56829522-6ee9-479f-a41c-097ed9ed9b5b"
      },
      "source": [
        "from sklearn.linear_model import LinearRegression\n",
        "from sklearn.linear_model import Ridge\n",
        "from yellowbrick.regressor import ResidualsPlot\n",
        "\n",
        "model = LinearRegression()\n",
        "x = Suicide_rate['gdp_per_capita']\n",
        "X = x[:, np.newaxis]\n",
        "y = Suicide_rate['Suicide_per_Hundred_K_Pop']\n",
        "model.fit(X, y)\n",
        "\n",
        "y_predicted = model.predict(X)\n",
        "plt.scatter(x, y)\n",
        "plt.plot(x, y_predicted)\n",
        "plt.title(\"Scatterplot and Linear Regreesion of suicides versus GDP\")\n",
        "plt.xlabel(\"GDP per capita\")\n",
        "plt.ylabel(\"Suicides per 100 K population\")\n",
        "plt.show()\n",
        "\n",
        "x = Suicide_rate['gdp_per_capita'].values\n",
        "X = x.reshape(-1, 1)\n",
        "y = Suicide_rate['Suicide_per_Hundred_K_Pop']\n"
      ],
      "execution_count": 8,
      "outputs": [
        {
          "output_type": "display_data",
          "data": {
            "image/png": "[encoded data removed]",
            "text/plain": [
              "<Figure size 576x396 with 1 Axes>"
            ]
          },
          "metadata": {
            "tags": []
          }
        }
      ]
    },
    {
      "cell_type": "code",
      "metadata": {
        "colab": {
          "base_uri": "https://localhost:8080/",
          "height": 376
        },
        "id": "371L1mMhqtHp",
        "outputId": "36e834a2-1a86-42c1-9a1d-464b9a08b577"
      },
      "source": [
        "visualizer = ResidualsPlot(model)\n",
        "visualizer.fit(X, y)\n",
        "visualizer.poof()"
      ],
      "execution_count": 9,
      "outputs": [
        {
          "output_type": "display_data",
          "data": {
            "image/png": "[encoded data removed]",
            "text/plain": [
              "<Figure size 576x396 with 2 Axes>"
            ]
          },
          "metadata": {
            "tags": []
          }
        }
      ]
    },
    {
      "cell_type": "code",
      "metadata": {
        "colab": {
          "base_uri": "https://localhost:8080/"
        },
        "id": "caGWgJOQu_1J",
        "outputId": "5978ac44-823b-443d-a65f-3956e9f169d3"
      },
      "source": [
        "# partition data into train and test splits\n",
        "from sklearn.linear_model import LinearRegression\n",
        "\n",
        "y = Suicide_rate['Suicide_per_Hundred_K_Pop']\n",
        "X = Suicide_rate.loc[:, ['gdp_per_capita']]\n",
        "\n",
        "print(y.shape)\n",
        "print(X.shape)\n",
        "\n",
        "from sklearn.model_selection import train_test_split\n",
        "X_train, X_test, y_train, y_test = train_test_split(X, y, test_size=0.3)\n",
        "\n",
        "print(y_train.shape)\n",
        "print(X_train.shape)\n",
        "print(y_test.shape)\n",
        "print(X_test.shape)\n",
        "\n",
        "model = LinearRegression()\n",
        "model.fit(X_train,y_train)\n",
        "model.score(X_train,y_train)\n",
        "model.score(X_test,y_test)\n"
      ],
      "execution_count": 10,
      "outputs": [
        {
          "output_type": "stream",
          "text": [
            "(27820,)\n",
            "(27820, 1)\n",
            "(19474,)\n",
            "(19474, 1)\n",
            "(8346,)\n",
            "(8346, 1)\n"
          ],
          "name": "stdout"
        },
        {
          "output_type": "execute_result",
          "data": {
            "text/plain": [
              "-3.519681825547849e-05"
            ]
          },
          "metadata": {
            "tags": []
          },
          "execution_count": 10
        }
      ]
    },
    {
      "cell_type": "code",
      "metadata": {
        "colab": {
          "base_uri": "https://localhost:8080/"
        },
        "id": "jscAyaR7_iqd",
        "outputId": "07149217-626c-4851-e7f3-69b32633c4c6"
      },
      "source": [
        "from sklearn.linear_model import Lasso\n",
        "from sklearn.linear_model import Ridge\n",
        "\n",
        "\n",
        "alpha_user = 0.03427385\n",
        "lasso_model = Lasso(alpha=alpha_user,normalize=True)\n",
        "ridge_mode = Ridge(alpha= alpha_user, normalize=True)\n",
        "lasso_model.fit(X_train,y_train)\n",
        "lasso_coef = lasso_model.coef_\n",
        "print(lasso_coef)"
      ],
      "execution_count": 60,
      "outputs": [
        {
          "output_type": "stream",
          "text": [
            "[0.]\n"
          ],
          "name": "stdout"
        }
      ]
    },
    {
      "cell_type": "code",
      "metadata": {
        "colab": {
          "base_uri": "https://localhost:8080/"
        },
        "id": "NJfBTxbpABdz",
        "outputId": "1ef8fcb5-8348-4420-c35c-fec9b70a539e"
      },
      "source": [
        "#How do we choose the right alpha?\n",
        "#This is where the validation dataset comes in!\n",
        "alpha_space = np.logspace(-4, 0, 50)\n",
        "print(alpha_space)\n",
        "model_scores = []\n",
        "\n",
        "lasso_model = Lasso(normalize=True) #same for Ridge\n",
        "for alpha in alpha_space:\n",
        "\n",
        "    # Specify the alpha value to use\n",
        "    lasso_model.alpha = alpha\n",
        "    \n",
        "    # Perform 10-fold CV\n",
        "    from sklearn.model_selection import cross_val_score\n",
        "    lasso_cv_scores = cross_val_score(lasso_model,X_train,y_train,cv=10)\n",
        "    \n",
        "    # Append the mean of lasso_cv_scores to model_scores = []\n",
        "    model_scores.append(np.mean(lasso_cv_scores))\n",
        "  \n",
        "best_alpha_index = np.argmax(model_scores)\n",
        "print(np.max(model_scores))\n",
        "print(alpha_space[best_alpha_index])"
      ],
      "execution_count": 48,
      "outputs": [
        {
          "output_type": "stream",
          "text": [
            "[1.00000000e-04 1.20679264e-04 1.45634848e-04 1.75751062e-04\n",
            " 2.12095089e-04 2.55954792e-04 3.08884360e-04 3.72759372e-04\n",
            " 4.49843267e-04 5.42867544e-04 6.55128557e-04 7.90604321e-04\n",
            " 9.54095476e-04 1.15139540e-03 1.38949549e-03 1.67683294e-03\n",
            " 2.02358965e-03 2.44205309e-03 2.94705170e-03 3.55648031e-03\n",
            " 4.29193426e-03 5.17947468e-03 6.25055193e-03 7.54312006e-03\n",
            " 9.10298178e-03 1.09854114e-02 1.32571137e-02 1.59985872e-02\n",
            " 1.93069773e-02 2.32995181e-02 2.81176870e-02 3.39322177e-02\n",
            " 4.09491506e-02 4.94171336e-02 5.96362332e-02 7.19685673e-02\n",
            " 8.68511374e-02 1.04811313e-01 1.26485522e-01 1.52641797e-01\n",
            " 1.84206997e-01 2.22299648e-01 2.68269580e-01 3.23745754e-01\n",
            " 3.90693994e-01 4.71486636e-01 5.68986603e-01 6.86648845e-01\n",
            " 8.28642773e-01 1.00000000e+00]\n",
            "-0.0006605749993643828\n",
            "0.0009540954763499944\n"
          ],
          "name": "stdout"
        }
      ]
    },
    {
      "cell_type": "code",
      "metadata": {
        "colab": {
          "base_uri": "https://localhost:8080/"
        },
        "id": "DfJDv1mE5Onj",
        "outputId": "3e1f5651-ca1f-4950-9dc9-05cedac085dc"
      },
      "source": [
        "contingencyTable = pd.crosstab(Suicide_rate['Suicide_per_Hundred_K_Pop'], Suicide_rate['gdp_per_capita'])\n",
        "print(contingencyTable)"
      ],
      "execution_count": 11,
      "outputs": [
        {
          "output_type": "stream",
          "text": [
            "gdp_per_capita             251     291     313     ...  121315  122729  126352\n",
            "Suicide_per_Hundred_K_Pop                          ...                        \n",
            "0.00                            4       0       0  ...       4       2       1\n",
            "0.02                            0       0       0  ...       0       0       0\n",
            "0.03                            0       0       0  ...       0       0       0\n",
            "0.04                            0       0       0  ...       0       0       0\n",
            "0.05                            0       0       0  ...       0       0       0\n",
            "...                           ...     ...     ...  ...     ...     ...     ...\n",
            "182.32                          0       0       0  ...       0       0       0\n",
            "185.37                          0       0       0  ...       0       0       0\n",
            "187.06                          0       0       0  ...       0       0       0\n",
            "204.92                          0       0       0  ...       0       0       0\n",
            "224.97                          0       0       0  ...       0       0       0\n",
            "\n",
            "[5298 rows x 2233 columns]\n"
          ],
          "name": "stdout"
        }
      ]
    },
    {
      "cell_type": "code",
      "metadata": {
        "colab": {
          "base_uri": "https://localhost:8080/"
        },
        "id": "c-T9euS75eEx",
        "outputId": "75c767ac-a187-4c88-fa8a-6d922293988d"
      },
      "source": [
        "# sum of rows and columns of contingency table\n",
        "print(contingencyTable.sum(axis=1))\n",
        "print(contingencyTable.sum(axis=0))\n",
        "\n",
        "# contingency table as percentages of gender total\n",
        "print(contingencyTable.astype('float').div(contingencyTable.sum(axis=1), axis=0))"
      ],
      "execution_count": 12,
      "outputs": [
        {
          "output_type": "stream",
          "text": [
            "Suicide_per_Hundred_K_Pop\n",
            "0.00      4281\n",
            "0.02         5\n",
            "0.03         8\n",
            "0.04        14\n",
            "0.05        10\n",
            "          ... \n",
            "182.32       1\n",
            "185.37       1\n",
            "187.06       1\n",
            "204.92       1\n",
            "224.97       1\n",
            "Length: 5298, dtype: int64\n",
            "gdp_per_capita\n",
            "251       12\n",
            "291       12\n",
            "313       12\n",
            "345       12\n",
            "357       12\n",
            "          ..\n",
            "113120    12\n",
            "120423    12\n",
            "121315    12\n",
            "122729    12\n",
            "126352    12\n",
            "Length: 2233, dtype: int64\n",
            "gdp_per_capita               251     291     ...    122729    126352\n",
            "Suicide_per_Hundred_K_Pop                    ...                    \n",
            "0.00                       0.000934     0.0  ...  0.000467  0.000234\n",
            "0.02                       0.000000     0.0  ...  0.000000  0.000000\n",
            "0.03                       0.000000     0.0  ...  0.000000  0.000000\n",
            "0.04                       0.000000     0.0  ...  0.000000  0.000000\n",
            "0.05                       0.000000     0.0  ...  0.000000  0.000000\n",
            "...                             ...     ...  ...       ...       ...\n",
            "182.32                     0.000000     0.0  ...  0.000000  0.000000\n",
            "185.37                     0.000000     0.0  ...  0.000000  0.000000\n",
            "187.06                     0.000000     0.0  ...  0.000000  0.000000\n",
            "204.92                     0.000000     0.0  ...  0.000000  0.000000\n",
            "224.97                     0.000000     0.0  ...  0.000000  0.000000\n",
            "\n",
            "[5298 rows x 2233 columns]\n"
          ],
          "name": "stdout"
        }
      ]
    },
    {
      "cell_type": "code",
      "metadata": {
        "colab": {
          "base_uri": "https://localhost:8080/"
        },
        "id": "poxBemAL528p",
        "outputId": "bc860b40-6139-4471-e372-0c659b8a699f"
      },
      "source": [
        "print(sum(y==0)/y.shape[0])"
      ],
      "execution_count": 13,
      "outputs": [
        {
          "output_type": "stream",
          "text": [
            "0.153882099209202\n"
          ],
          "name": "stdout"
        }
      ]
    },
    {
      "cell_type": "code",
      "metadata": {
        "colab": {
          "base_uri": "https://localhost:8080/"
        },
        "id": "zPdNECkf5_s5",
        "outputId": "64ce0820-ae97-41fd-f991-aa83a93753a6"
      },
      "source": [
        "print(X.head())\n",
        "print(y.head())"
      ],
      "execution_count": 14,
      "outputs": [
        {
          "output_type": "stream",
          "text": [
            "   gdp_per_capita\n",
            "0             796\n",
            "1             796\n",
            "2             796\n",
            "3             796\n",
            "4             796\n",
            "0    6.71\n",
            "1    5.19\n",
            "2    4.83\n",
            "3    4.59\n",
            "4    3.28\n",
            "Name: Suicide_per_Hundred_K_Pop, dtype: float64\n"
          ],
          "name": "stdout"
        }
      ]
    },
    {
      "cell_type": "code",
      "metadata": {
        "colab": {
          "base_uri": "https://localhost:8080/"
        },
        "id": "Lht32lb-6gQi",
        "outputId": "f99dafe6-6499-49a3-be31-c890e825aef0"
      },
      "source": [
        "from sklearn import preprocessing\n",
        "from sklearn import utils\n",
        "\n",
        "print(utils.multiclass.type_of_target(y_train))\n",
        "print(utils.multiclass.type_of_target(y_train.astype('int')))\n",
        "y_train = y_train.astype('int')\n"
      ],
      "execution_count": 24,
      "outputs": [
        {
          "output_type": "stream",
          "text": [
            "continuous\n",
            "multiclass\n"
          ],
          "name": "stdout"
        }
      ]
    },
    {
      "cell_type": "code",
      "metadata": {
        "colab": {
          "base_uri": "https://localhost:8080/"
        },
        "id": "cqvuGJcs6TCM",
        "outputId": "5449ac68-fd4e-471f-f2b9-548ffb600070"
      },
      "source": [
        "logReg = LogisticRegression()\n",
        "\n",
        "# fit the model with data\n",
        "logReg.fit(X_train, y_train)\n",
        "\n",
        "# make predictions\n",
        "y_pred = logReg.predict(X_test)\n",
        "\n",
        "# evaluate the performance\n",
        "y_test = y_test.astype('int')\n",
        "cnf_matrix = metrics.confusion_matrix(y_test, y_pred)\n",
        "\n",
        "print(cnf_matrix)\n",
        "print('Accuracy:', metrics.accuracy_score(y_test, y_pred))"
      ],
      "execution_count": 29,
      "outputs": [
        {
          "output_type": "stream",
          "text": [
            "[[2182    0    0 ...    0    0    0]\n",
            " [ 534    0    0 ...    0    0    0]\n",
            " [ 407    0    0 ...    0    0    0]\n",
            " ...\n",
            " [   1    0    0 ...    0    0    0]\n",
            " [   1    0    0 ...    0    0    0]\n",
            " [   1    0    0 ...    0    0    0]]\n",
            "Accuracy: 0.26144260723699975\n"
          ],
          "name": "stdout"
        }
      ]
    },
    {
      "cell_type": "code",
      "metadata": {
        "colab": {
          "base_uri": "https://localhost:8080/",
          "height": 384
        },
        "id": "4nwAs2CH80X_",
        "outputId": "b83aefcb-7bbb-400c-ee72-06072d500d66"
      },
      "source": [
        "from sklearn.dummy import DummyClassifier\n",
        "dummy_clf = DummyClassifier(strategy=\"most_frequent\")\n",
        "dummy_clf.fit(X_train, y_train)\n",
        "dummy_clf.predict(X_test)\n",
        "dummy_clf.score(X_test,y_test)\n",
        "\n",
        "\n",
        "metrics.plot_confusion_matrix(logReg, X_test, y_test)"
      ],
      "execution_count": 32,
      "outputs": [
        {
          "output_type": "execute_result",
          "data": {
            "text/plain": [
              "<sklearn.metrics._plot.confusion_matrix.ConfusionMatrixDisplay at 0x7f38fd77b0d0>"
            ]
          },
          "metadata": {
            "tags": []
          },
          "execution_count": 32
        },
        {
          "output_type": "display_data",
          "data": {
            "image/png": "[encoded data removed]",
            "text/plain": [
              "<Figure size 576x396 with 2 Axes>"
            ]
          },
          "metadata": {
            "tags": []
          }
        }
      ]
    },
    {
      "cell_type": "code",
      "metadata": {
        "colab": {
          "base_uri": "https://localhost:8080/"
        },
        "id": "XwFkq6vH9UyB",
        "outputId": "a8c5bf4d-07db-459a-c4d1-4d97d46548f6"
      },
      "source": [
        "# Print precision, recall, F-beta score and support\n",
        "print(metrics.classification_report(y_test, y_pred))"
      ],
      "execution_count": 33,
      "outputs": [
        {
          "output_type": "stream",
          "text": [
            "              precision    recall  f1-score   support\n",
            "\n",
            "           0       0.26      1.00      0.41      2182\n",
            "           1       0.00      0.00      0.00       534\n",
            "           2       0.00      0.00      0.00       407\n",
            "           3       0.00      0.00      0.00       364\n",
            "           4       0.00      0.00      0.00       377\n",
            "           5       0.00      0.00      0.00       324\n",
            "           6       0.00      0.00      0.00       286\n",
            "           7       0.00      0.00      0.00       274\n",
            "           8       0.00      0.00      0.00       248\n",
            "           9       0.00      0.00      0.00       229\n",
            "          10       0.00      0.00      0.00       178\n",
            "          11       0.00      0.00      0.00       158\n",
            "          12       0.00      0.00      0.00       171\n",
            "          13       0.00      0.00      0.00       173\n",
            "          14       0.00      0.00      0.00       151\n",
            "          15       0.00      0.00      0.00       129\n",
            "          16       0.00      0.00      0.00       115\n",
            "          17       0.00      0.00      0.00       119\n",
            "          18       0.00      0.00      0.00       103\n",
            "          19       0.00      0.00      0.00        86\n",
            "          20       0.00      0.00      0.00       100\n",
            "          21       0.00      0.00      0.00        74\n",
            "          22       0.00      0.00      0.00        96\n",
            "          23       0.00      0.00      0.00        88\n",
            "          24       0.00      0.00      0.00        82\n",
            "          25       0.00      0.00      0.00        64\n",
            "          26       0.00      0.00      0.00        66\n",
            "          27       0.00      0.00      0.00        71\n",
            "          28       0.00      0.00      0.00        42\n",
            "          29       0.00      0.00      0.00        58\n",
            "          30       0.00      0.00      0.00        52\n",
            "          31       0.00      0.00      0.00        33\n",
            "          32       0.00      0.00      0.00        42\n",
            "          33       0.00      0.00      0.00        49\n",
            "          34       0.00      0.00      0.00        52\n",
            "          35       0.00      0.00      0.00        38\n",
            "          36       0.00      0.00      0.00        40\n",
            "          37       0.00      0.00      0.00        32\n",
            "          38       0.00      0.00      0.00        26\n",
            "          39       0.00      0.00      0.00        25\n",
            "          40       0.00      0.00      0.00        32\n",
            "          41       0.00      0.00      0.00        17\n",
            "          42       0.00      0.00      0.00        29\n",
            "          43       0.00      0.00      0.00        24\n",
            "          44       0.00      0.00      0.00        13\n",
            "          45       0.00      0.00      0.00        12\n",
            "          46       0.00      0.00      0.00         9\n",
            "          47       0.00      0.00      0.00        20\n",
            "          48       0.00      0.00      0.00        18\n",
            "          49       0.00      0.00      0.00         9\n",
            "          50       0.00      0.00      0.00        11\n",
            "          51       0.00      0.00      0.00        14\n",
            "          52       0.00      0.00      0.00        13\n",
            "          53       0.00      0.00      0.00        13\n",
            "          54       0.00      0.00      0.00        10\n",
            "          55       0.00      0.00      0.00        12\n",
            "          56       0.00      0.00      0.00        10\n",
            "          57       0.00      0.00      0.00         6\n",
            "          58       0.00      0.00      0.00         7\n",
            "          59       0.00      0.00      0.00         8\n",
            "          60       0.00      0.00      0.00        14\n",
            "          61       0.00      0.00      0.00        13\n",
            "          62       0.00      0.00      0.00         7\n",
            "          63       0.00      0.00      0.00         6\n",
            "          64       0.00      0.00      0.00         6\n",
            "          65       0.00      0.00      0.00         9\n",
            "          66       0.00      0.00      0.00        13\n",
            "          67       0.00      0.00      0.00         6\n",
            "          68       0.00      0.00      0.00         9\n",
            "          69       0.00      0.00      0.00        10\n",
            "          70       0.00      0.00      0.00         6\n",
            "          71       0.00      0.00      0.00         9\n",
            "          72       0.00      0.00      0.00         6\n",
            "          73       0.00      0.00      0.00         9\n",
            "          74       0.00      0.00      0.00         5\n",
            "          75       0.00      0.00      0.00        12\n",
            "          76       0.00      0.00      0.00         8\n",
            "          77       0.00      0.00      0.00         5\n",
            "          78       0.00      0.00      0.00         9\n",
            "          79       0.00      0.00      0.00        11\n",
            "          80       0.00      0.00      0.00         9\n",
            "          81       0.00      0.00      0.00         6\n",
            "          82       0.00      0.00      0.00         8\n",
            "          83       0.00      0.00      0.00         7\n",
            "          84       0.00      0.00      0.00         5\n",
            "          85       0.00      0.00      0.00         9\n",
            "          86       0.00      0.00      0.00         7\n",
            "          87       0.00      0.00      0.00         3\n",
            "          88       0.00      0.00      0.00         6\n",
            "          89       0.00      0.00      0.00         4\n",
            "          90       0.00      0.00      0.00         1\n",
            "          91       0.00      0.00      0.00         3\n",
            "          93       0.00      0.00      0.00         1\n",
            "          94       0.00      0.00      0.00         2\n",
            "          95       0.00      0.00      0.00         4\n",
            "          96       0.00      0.00      0.00         1\n",
            "          97       0.00      0.00      0.00         6\n",
            "          98       0.00      0.00      0.00         3\n",
            "          99       0.00      0.00      0.00         3\n",
            "         100       0.00      0.00      0.00         1\n",
            "         101       0.00      0.00      0.00         5\n",
            "         102       0.00      0.00      0.00         2\n",
            "         103       0.00      0.00      0.00         4\n",
            "         104       0.00      0.00      0.00         2\n",
            "         105       0.00      0.00      0.00         1\n",
            "         106       0.00      0.00      0.00         2\n",
            "         107       0.00      0.00      0.00         1\n",
            "         108       0.00      0.00      0.00         2\n",
            "         109       0.00      0.00      0.00         1\n",
            "         110       0.00      0.00      0.00         3\n",
            "         111       0.00      0.00      0.00         1\n",
            "         113       0.00      0.00      0.00         4\n",
            "         114       0.00      0.00      0.00         3\n",
            "         115       0.00      0.00      0.00         2\n",
            "         116       0.00      0.00      0.00         1\n",
            "         117       0.00      0.00      0.00         1\n",
            "         118       0.00      0.00      0.00         2\n",
            "         119       0.00      0.00      0.00         1\n",
            "         120       0.00      0.00      0.00         1\n",
            "         121       0.00      0.00      0.00         1\n",
            "         123       0.00      0.00      0.00         2\n",
            "         124       0.00      0.00      0.00         1\n",
            "         125       0.00      0.00      0.00         2\n",
            "         131       0.00      0.00      0.00         1\n",
            "         133       0.00      0.00      0.00         1\n",
            "         134       0.00      0.00      0.00         2\n",
            "         144       0.00      0.00      0.00         1\n",
            "         147       0.00      0.00      0.00         1\n",
            "         152       0.00      0.00      0.00         1\n",
            "         154       0.00      0.00      0.00         1\n",
            "         170       0.00      0.00      0.00         1\n",
            "         173       0.00      0.00      0.00         1\n",
            "         177       0.00      0.00      0.00         1\n",
            "         182       0.00      0.00      0.00         1\n",
            "         185       0.00      0.00      0.00         1\n",
            "         204       0.00      0.00      0.00         1\n",
            "\n",
            "    accuracy                           0.26      8346\n",
            "   macro avg       0.00      0.01      0.00      8346\n",
            "weighted avg       0.07      0.26      0.11      8346\n",
            "\n"
          ],
          "name": "stdout"
        }
      ]
    },
    {
      "cell_type": "code",
      "metadata": {
        "colab": {
          "base_uri": "https://localhost:8080/"
        },
        "id": "2gm6TGpq9pME",
        "outputId": "7b394c4e-ed89-457b-9741-c8d157f40617"
      },
      "source": [
        "from sklearn import linear_model\n",
        "# L1 regulation\n",
        "reg = linear_model.Lasso(alpha=0.1)\n",
        "reg.fit(X_train,y_train)"
      ],
      "execution_count": 38,
      "outputs": [
        {
          "output_type": "execute_result",
          "data": {
            "text/plain": [
              "Lasso(alpha=0.1, copy_X=True, fit_intercept=True, max_iter=1000,\n",
              "      normalize=False, positive=False, precompute=False, random_state=None,\n",
              "      selection='cyclic', tol=0.0001, warm_start=False)"
            ]
          },
          "metadata": {
            "tags": []
          },
          "execution_count": 38
        }
      ]
    },
    {
      "cell_type": "code",
      "metadata": {
        "colab": {
          "base_uri": "https://localhost:8080/"
        },
        "id": "p_4UIXX_-uRa",
        "outputId": "250c2178-f190-4cea-d0fe-07513d81cc33"
      },
      "source": [
        "reg.coef_"
      ],
      "execution_count": 39,
      "outputs": [
        {
          "output_type": "execute_result",
          "data": {
            "text/plain": [
              "array([2.77080609e-06])"
            ]
          },
          "metadata": {
            "tags": []
          },
          "execution_count": 39
        }
      ]
    },
    {
      "cell_type": "code",
      "metadata": {
        "colab": {
          "base_uri": "https://localhost:8080/"
        },
        "id": "VaimL9bB-uvG",
        "outputId": "147340fe-c997-4d8a-c8cf-7fd6509f24fd"
      },
      "source": [
        "reg.intercept_"
      ],
      "execution_count": 40,
      "outputs": [
        {
          "output_type": "execute_result",
          "data": {
            "text/plain": [
              "12.342393690186412"
            ]
          },
          "metadata": {
            "tags": []
          },
          "execution_count": 40
        }
      ]
    },
    {
      "cell_type": "code",
      "metadata": {
        "colab": {
          "base_uri": "https://localhost:8080/"
        },
        "id": "ItCJ-XpV-w8w",
        "outputId": "efce5b42-f5ff-4f31-86b8-78d668e67531"
      },
      "source": [
        "# L2 regulation\n",
        "reg = linear_model.Ridge(alpha=.5)\n",
        "reg.fit(X_train,y_train)"
      ],
      "execution_count": 61,
      "outputs": [
        {
          "output_type": "execute_result",
          "data": {
            "text/plain": [
              "Ridge(alpha=0.5, copy_X=True, fit_intercept=True, max_iter=None,\n",
              "      normalize=False, random_state=None, solver='auto', tol=0.001)"
            ]
          },
          "metadata": {
            "tags": []
          },
          "execution_count": 61
        }
      ]
    },
    {
      "cell_type": "code",
      "metadata": {
        "colab": {
          "base_uri": "https://localhost:8080/"
        },
        "id": "wCOhkNyt-81Q",
        "outputId": "db48fa01-b9c5-413f-f76c-fb53cd4473f7"
      },
      "source": [
        "reg.coef_"
      ],
      "execution_count": 62,
      "outputs": [
        {
          "output_type": "execute_result",
          "data": {
            "text/plain": [
              "array([2.77108682e-06])"
            ]
          },
          "metadata": {
            "tags": []
          },
          "execution_count": 62
        }
      ]
    },
    {
      "cell_type": "code",
      "metadata": {
        "colab": {
          "base_uri": "https://localhost:8080/"
        },
        "id": "a2My3Ioa--qF",
        "outputId": "8610a6f9-b626-4ed0-d1d7-e96df713ec12"
      },
      "source": [
        "reg.intercept_"
      ],
      "execution_count": 63,
      "outputs": [
        {
          "output_type": "execute_result",
          "data": {
            "text/plain": [
              "12.34238900139089"
            ]
          },
          "metadata": {
            "tags": []
          },
          "execution_count": 63
        }
      ]
    }
  ]
}